{
 "cells": [
  {
   "cell_type": "code",
   "execution_count": 179,
   "id": "1e6dc949-cfdb-434a-86aa-69f21d61d4eb",
   "metadata": {},
   "outputs": [],
   "source": [
    "import pandas as pd\n",
    "import numpy as np"
   ]
  },
  {
   "cell_type": "code",
   "execution_count": 180,
   "id": "dcc1d313-0c90-4df7-9ea0-5fd1406c2d88",
   "metadata": {},
   "outputs": [],
   "source": [
    "df = pd.read_csv('Churn_Modelling.csv')"
   ]
  },
  {
   "cell_type": "code",
   "execution_count": 146,
   "id": "ae49efef-fc3a-420c-9ffa-7c37e6972b2b",
   "metadata": {},
   "outputs": [
    {
     "data": {
      "text/html": [
       "<div>\n",
       "<style scoped>\n",
       "    .dataframe tbody tr th:only-of-type {\n",
       "        vertical-align: middle;\n",
       "    }\n",
       "\n",
       "    .dataframe tbody tr th {\n",
       "        vertical-align: top;\n",
       "    }\n",
       "\n",
       "    .dataframe thead th {\n",
       "        text-align: right;\n",
       "    }\n",
       "</style>\n",
       "<table border=\"1\" class=\"dataframe\">\n",
       "  <thead>\n",
       "    <tr style=\"text-align: right;\">\n",
       "      <th></th>\n",
       "      <th>RowNumber</th>\n",
       "      <th>CustomerId</th>\n",
       "      <th>Surname</th>\n",
       "      <th>CreditScore</th>\n",
       "      <th>Geography</th>\n",
       "      <th>Gender</th>\n",
       "      <th>Age</th>\n",
       "      <th>Tenure</th>\n",
       "      <th>Balance</th>\n",
       "      <th>NumOfProducts</th>\n",
       "      <th>HasCrCard</th>\n",
       "      <th>IsActiveMember</th>\n",
       "      <th>EstimatedSalary</th>\n",
       "      <th>Exited</th>\n",
       "    </tr>\n",
       "  </thead>\n",
       "  <tbody>\n",
       "    <tr>\n",
       "      <th>0</th>\n",
       "      <td>1</td>\n",
       "      <td>15634602</td>\n",
       "      <td>Hargrave</td>\n",
       "      <td>619</td>\n",
       "      <td>France</td>\n",
       "      <td>Female</td>\n",
       "      <td>42</td>\n",
       "      <td>2</td>\n",
       "      <td>0.00</td>\n",
       "      <td>1</td>\n",
       "      <td>1</td>\n",
       "      <td>1</td>\n",
       "      <td>101348.88</td>\n",
       "      <td>1</td>\n",
       "    </tr>\n",
       "    <tr>\n",
       "      <th>1</th>\n",
       "      <td>2</td>\n",
       "      <td>15647311</td>\n",
       "      <td>Hill</td>\n",
       "      <td>608</td>\n",
       "      <td>Spain</td>\n",
       "      <td>Female</td>\n",
       "      <td>41</td>\n",
       "      <td>1</td>\n",
       "      <td>83807.86</td>\n",
       "      <td>1</td>\n",
       "      <td>0</td>\n",
       "      <td>1</td>\n",
       "      <td>112542.58</td>\n",
       "      <td>0</td>\n",
       "    </tr>\n",
       "    <tr>\n",
       "      <th>2</th>\n",
       "      <td>3</td>\n",
       "      <td>15619304</td>\n",
       "      <td>Onio</td>\n",
       "      <td>502</td>\n",
       "      <td>France</td>\n",
       "      <td>Female</td>\n",
       "      <td>42</td>\n",
       "      <td>8</td>\n",
       "      <td>159660.80</td>\n",
       "      <td>3</td>\n",
       "      <td>1</td>\n",
       "      <td>0</td>\n",
       "      <td>113931.57</td>\n",
       "      <td>1</td>\n",
       "    </tr>\n",
       "    <tr>\n",
       "      <th>3</th>\n",
       "      <td>4</td>\n",
       "      <td>15701354</td>\n",
       "      <td>Boni</td>\n",
       "      <td>699</td>\n",
       "      <td>France</td>\n",
       "      <td>Female</td>\n",
       "      <td>39</td>\n",
       "      <td>1</td>\n",
       "      <td>0.00</td>\n",
       "      <td>2</td>\n",
       "      <td>0</td>\n",
       "      <td>0</td>\n",
       "      <td>93826.63</td>\n",
       "      <td>0</td>\n",
       "    </tr>\n",
       "    <tr>\n",
       "      <th>4</th>\n",
       "      <td>5</td>\n",
       "      <td>15737888</td>\n",
       "      <td>Mitchell</td>\n",
       "      <td>850</td>\n",
       "      <td>Spain</td>\n",
       "      <td>Female</td>\n",
       "      <td>43</td>\n",
       "      <td>2</td>\n",
       "      <td>125510.82</td>\n",
       "      <td>1</td>\n",
       "      <td>1</td>\n",
       "      <td>1</td>\n",
       "      <td>79084.10</td>\n",
       "      <td>0</td>\n",
       "    </tr>\n",
       "  </tbody>\n",
       "</table>\n",
       "</div>"
      ],
      "text/plain": [
       "   RowNumber  CustomerId   Surname  CreditScore Geography  Gender  Age  \\\n",
       "0          1    15634602  Hargrave          619    France  Female   42   \n",
       "1          2    15647311      Hill          608     Spain  Female   41   \n",
       "2          3    15619304      Onio          502    France  Female   42   \n",
       "3          4    15701354      Boni          699    France  Female   39   \n",
       "4          5    15737888  Mitchell          850     Spain  Female   43   \n",
       "\n",
       "   Tenure    Balance  NumOfProducts  HasCrCard  IsActiveMember  \\\n",
       "0       2       0.00              1          1               1   \n",
       "1       1   83807.86              1          0               1   \n",
       "2       8  159660.80              3          1               0   \n",
       "3       1       0.00              2          0               0   \n",
       "4       2  125510.82              1          1               1   \n",
       "\n",
       "   EstimatedSalary  Exited  \n",
       "0        101348.88       1  \n",
       "1        112542.58       0  \n",
       "2        113931.57       1  \n",
       "3         93826.63       0  \n",
       "4         79084.10       0  "
      ]
     },
     "execution_count": 146,
     "metadata": {},
     "output_type": "execute_result"
    }
   ],
   "source": [
    "df.head()"
   ]
  },
  {
   "cell_type": "code",
   "execution_count": 147,
   "id": "de92eaa6-dacf-4da8-a04d-76d73b4f538e",
   "metadata": {},
   "outputs": [
    {
     "data": {
      "text/plain": [
       "(10000, 14)"
      ]
     },
     "execution_count": 147,
     "metadata": {},
     "output_type": "execute_result"
    }
   ],
   "source": [
    "df.shape"
   ]
  },
  {
   "cell_type": "code",
   "execution_count": 148,
   "id": "d07b3865-d93e-4f11-bc64-d368801ae284",
   "metadata": {},
   "outputs": [
    {
     "name": "stdout",
     "output_type": "stream",
     "text": [
      "<class 'pandas.core.frame.DataFrame'>\n",
      "RangeIndex: 10000 entries, 0 to 9999\n",
      "Data columns (total 14 columns):\n",
      " #   Column           Non-Null Count  Dtype  \n",
      "---  ------           --------------  -----  \n",
      " 0   RowNumber        10000 non-null  int64  \n",
      " 1   CustomerId       10000 non-null  int64  \n",
      " 2   Surname          10000 non-null  object \n",
      " 3   CreditScore      10000 non-null  int64  \n",
      " 4   Geography        10000 non-null  object \n",
      " 5   Gender           10000 non-null  object \n",
      " 6   Age              10000 non-null  int64  \n",
      " 7   Tenure           10000 non-null  int64  \n",
      " 8   Balance          10000 non-null  float64\n",
      " 9   NumOfProducts    10000 non-null  int64  \n",
      " 10  HasCrCard        10000 non-null  int64  \n",
      " 11  IsActiveMember   10000 non-null  int64  \n",
      " 12  EstimatedSalary  10000 non-null  float64\n",
      " 13  Exited           10000 non-null  int64  \n",
      "dtypes: float64(2), int64(9), object(3)\n",
      "memory usage: 1.1+ MB\n"
     ]
    }
   ],
   "source": [
    "df.info()"
   ]
  },
  {
   "cell_type": "code",
   "execution_count": 149,
   "id": "afd1c1d1-465d-4ebd-b8fd-e94b209580f7",
   "metadata": {},
   "outputs": [
    {
     "data": {
      "text/plain": [
       "RowNumber          0\n",
       "CustomerId         0\n",
       "Surname            0\n",
       "CreditScore        0\n",
       "Geography          0\n",
       "Gender             0\n",
       "Age                0\n",
       "Tenure             0\n",
       "Balance            0\n",
       "NumOfProducts      0\n",
       "HasCrCard          0\n",
       "IsActiveMember     0\n",
       "EstimatedSalary    0\n",
       "Exited             0\n",
       "dtype: int64"
      ]
     },
     "execution_count": 149,
     "metadata": {},
     "output_type": "execute_result"
    }
   ],
   "source": [
    "df.isnull().sum()"
   ]
  },
  {
   "cell_type": "code",
   "execution_count": 150,
   "id": "2cfa5bc1-a47d-452d-895e-9f0726e6285e",
   "metadata": {},
   "outputs": [
    {
     "data": {
      "text/plain": [
       "0"
      ]
     },
     "execution_count": 150,
     "metadata": {},
     "output_type": "execute_result"
    }
   ],
   "source": [
    "df.duplicated().sum()"
   ]
  },
  {
   "cell_type": "code",
   "execution_count": 151,
   "id": "7a956152-85fd-4128-8442-d3d440777505",
   "metadata": {},
   "outputs": [
    {
     "data": {
      "text/plain": [
       "Exited\n",
       "0    7963\n",
       "1    2037\n",
       "Name: count, dtype: int64"
      ]
     },
     "execution_count": 151,
     "metadata": {},
     "output_type": "execute_result"
    }
   ],
   "source": [
    "df['Exited'].value_counts()"
   ]
  },
  {
   "cell_type": "code",
   "execution_count": 152,
   "id": "ee61a96a-d540-4d98-8b17-778b42257f2c",
   "metadata": {},
   "outputs": [
    {
     "data": {
      "text/plain": [
       "Geography\n",
       "France     5014\n",
       "Germany    2509\n",
       "Spain      2477\n",
       "Name: count, dtype: int64"
      ]
     },
     "execution_count": 152,
     "metadata": {},
     "output_type": "execute_result"
    }
   ],
   "source": [
    "df['Geography'].value_counts()"
   ]
  },
  {
   "cell_type": "code",
   "execution_count": 153,
   "id": "6fd88de2-56e5-42d3-9326-60afaf5c0e50",
   "metadata": {},
   "outputs": [
    {
     "data": {
      "text/plain": [
       "Gender\n",
       "Male      5457\n",
       "Female    4543\n",
       "Name: count, dtype: int64"
      ]
     },
     "execution_count": 153,
     "metadata": {},
     "output_type": "execute_result"
    }
   ],
   "source": [
    "df['Gender'].value_counts()"
   ]
  },
  {
   "cell_type": "code",
   "execution_count": 154,
   "id": "dc9561e9-1c40-4074-b32c-213e3cd00752",
   "metadata": {},
   "outputs": [],
   "source": [
    "df.drop(columns=['RowNumber' , 'CustomerId', 'Surname'] , inplace=True)"
   ]
  },
  {
   "cell_type": "code",
   "execution_count": 155,
   "id": "60571ced-934c-4052-9dd1-a9e9dbaee74c",
   "metadata": {},
   "outputs": [],
   "source": [
    "df = pd.get_dummies(df , columns=['Geography' , 'Gender'],drop_first=True , dtype=int)"
   ]
  },
  {
   "cell_type": "code",
   "execution_count": 156,
   "id": "83f9d0d5-73d2-4924-94f9-400eb728152c",
   "metadata": {},
   "outputs": [],
   "source": [
    "from sklearn.model_selection import train_test_split"
   ]
  },
  {
   "cell_type": "code",
   "execution_count": 157,
   "id": "c019779b-6b34-4e2a-9a79-1bb4c564cf40",
   "metadata": {},
   "outputs": [],
   "source": [
    "X = df.drop(columns=['Exited'])\n",
    "y = df['Exited']"
   ]
  },
  {
   "cell_type": "code",
   "execution_count": 158,
   "id": "d97ee30d-c35f-47e7-a5c2-de4828447c7b",
   "metadata": {},
   "outputs": [],
   "source": [
    "X_train , X_test ,y_train , y_test = train_test_split(X ,y ,\n",
    "                                                     test_size=0.2,\n",
    "                                                     random_state=1)"
   ]
  },
  {
   "cell_type": "code",
   "execution_count": 159,
   "id": "8200b877-f508-4c2b-91a0-acecf5183de7",
   "metadata": {},
   "outputs": [
    {
     "data": {
      "text/plain": [
       "(8000, 11)"
      ]
     },
     "execution_count": 159,
     "metadata": {},
     "output_type": "execute_result"
    }
   ],
   "source": [
    "X_train.shape"
   ]
  },
  {
   "cell_type": "code",
   "execution_count": 160,
   "id": "6a8838ca-8048-489a-a58f-38f4e55d5035",
   "metadata": {},
   "outputs": [
    {
     "data": {
      "text/plain": [
       "(2000, 11)"
      ]
     },
     "execution_count": 160,
     "metadata": {},
     "output_type": "execute_result"
    }
   ],
   "source": [
    "X_test.shape"
   ]
  },
  {
   "cell_type": "code",
   "execution_count": 161,
   "id": "ab96df07-790f-4260-9201-ea6a744ed072",
   "metadata": {},
   "outputs": [],
   "source": [
    "from sklearn.preprocessing import StandardScaler"
   ]
  },
  {
   "cell_type": "code",
   "execution_count": 162,
   "id": "a0484f3e-da6c-4c5d-a9ce-cd831fdc0381",
   "metadata": {},
   "outputs": [],
   "source": [
    "scaler = StandardScaler()"
   ]
  },
  {
   "cell_type": "code",
   "execution_count": 163,
   "id": "abdfc70e-b358-49c0-b20e-af9a46a38b21",
   "metadata": {},
   "outputs": [],
   "source": [
    "X_train = scaler.fit_transform(X_train)\n",
    "X_test = scaler.transform(X_test)"
   ]
  },
  {
   "cell_type": "code",
   "execution_count": 164,
   "id": "89669e3e-fd04-44f1-b81c-1d07970feab6",
   "metadata": {},
   "outputs": [
    {
     "data": {
      "text/plain": [
       "array([[-0.23082038, -0.94449979, -0.70174202, ...,  1.71490137,\n",
       "        -0.57273139,  0.91509065],\n",
       "       [-0.25150912, -0.94449979, -0.35520275, ..., -0.58312392,\n",
       "        -0.57273139, -1.09278791],\n",
       "       [-0.3963303 ,  0.77498705,  0.33787579, ...,  1.71490137,\n",
       "        -0.57273139, -1.09278791],\n",
       "       ...,\n",
       "       [ 0.22433188,  0.58393295,  1.3774936 , ..., -0.58312392,\n",
       "        -0.57273139, -1.09278791],\n",
       "       [ 0.13123255,  0.01077067,  1.03095433, ..., -0.58312392,\n",
       "        -0.57273139, -1.09278791],\n",
       "       [ 1.1656695 ,  0.29735181,  0.33787579, ...,  1.71490137,\n",
       "        -0.57273139,  0.91509065]])"
      ]
     },
     "execution_count": 164,
     "metadata": {},
     "output_type": "execute_result"
    }
   ],
   "source": [
    "X_train"
   ]
  },
  {
   "cell_type": "code",
   "execution_count": 165,
   "id": "8a5d66c5-f89d-4bf6-bb10-b051a6a07869",
   "metadata": {},
   "outputs": [
    {
     "data": {
      "text/plain": [
       "array([[-1.03768121,  0.77498705, -1.0482813 , ..., -0.58312392,\n",
       "        -0.57273139,  0.91509065],\n",
       "       [ 0.30708683, -0.46686456, -0.70174202, ..., -0.58312392,\n",
       "        -0.57273139,  0.91509065],\n",
       "       [-1.23422423,  0.29735181, -1.0482813 , ..., -0.58312392,\n",
       "        -0.57273139, -1.09278791],\n",
       "       ...,\n",
       "       [-0.86182692, -0.46686456,  1.72403288, ..., -0.58312392,\n",
       "         1.74601919,  0.91509065],\n",
       "       [-0.30323097, -0.84897275, -1.0482813 , ...,  1.71490137,\n",
       "        -0.57273139, -1.09278791],\n",
       "       [ 0.04847759,  1.25262228,  1.3774936 , ...,  1.71490137,\n",
       "        -0.57273139,  0.91509065]])"
      ]
     },
     "execution_count": 165,
     "metadata": {},
     "output_type": "execute_result"
    }
   ],
   "source": [
    "X_test"
   ]
  },
  {
   "cell_type": "code",
   "execution_count": 199,
   "id": "b0c692c2-eff9-4a9a-9739-b3198e11470f",
   "metadata": {},
   "outputs": [],
   "source": [
    "import tensorflow \n",
    "from tensorflow import keras\n",
    "from tensorflow.keras import Sequential\n",
    "from tensorflow.keras.layers import Dense"
   ]
  },
  {
   "cell_type": "code",
   "execution_count": 200,
   "id": "82839bf8-4058-45d9-9163-cd3b9d0ea587",
   "metadata": {},
   "outputs": [],
   "source": [
    "model = Sequential()"
   ]
  },
  {
   "cell_type": "code",
   "execution_count": 201,
   "id": "c75b6254-4834-4528-8bd0-ac1b55a831ee",
   "metadata": {},
   "outputs": [
    {
     "name": "stderr",
     "output_type": "stream",
     "text": [
      "C:\\Users\\itsam\\anaconda3\\Lib\\site-packages\\keras\\src\\layers\\core\\dense.py:93: UserWarning: Do not pass an `input_shape`/`input_dim` argument to a layer. When using Sequential models, prefer using an `Input(shape)` object as the first layer in the model instead.\n",
      "  super().__init__(activity_regularizer=activity_regularizer, **kwargs)\n"
     ]
    }
   ],
   "source": [
    "model.add(Dense(11,activation='relu', input_dim=11))\n",
    "model.add(Dense(11,activation='relu', input_dim=11))\n",
    "model.add(Dense(1, activation='sigmoid'))"
   ]
  },
  {
   "cell_type": "code",
   "execution_count": 202,
   "id": "82627021-6338-40af-9fd7-6a3b3ea24a21",
   "metadata": {},
   "outputs": [
    {
     "data": {
      "text/html": [
       "<pre style=\"white-space:pre;overflow-x:auto;line-height:normal;font-family:Menlo,'DejaVu Sans Mono',consolas,'Courier New',monospace\"><span style=\"font-weight: bold\">Model: \"sequential_5\"</span>\n",
       "</pre>\n"
      ],
      "text/plain": [
       "\u001b[1mModel: \"sequential_5\"\u001b[0m\n"
      ]
     },
     "metadata": {},
     "output_type": "display_data"
    },
    {
     "data": {
      "text/html": [
       "<pre style=\"white-space:pre;overflow-x:auto;line-height:normal;font-family:Menlo,'DejaVu Sans Mono',consolas,'Courier New',monospace\">┏━━━━━━━━━━━━━━━━━━━━━━━━━━━━━━━━━━━━━━┳━━━━━━━━━━━━━━━━━━━━━━━━━━━━━┳━━━━━━━━━━━━━━━━━┓\n",
       "┃<span style=\"font-weight: bold\"> Layer (type)                         </span>┃<span style=\"font-weight: bold\"> Output Shape                </span>┃<span style=\"font-weight: bold\">         Param # </span>┃\n",
       "┡━━━━━━━━━━━━━━━━━━━━━━━━━━━━━━━━━━━━━━╇━━━━━━━━━━━━━━━━━━━━━━━━━━━━━╇━━━━━━━━━━━━━━━━━┩\n",
       "│ dense_13 (<span style=\"color: #0087ff; text-decoration-color: #0087ff\">Dense</span>)                     │ (<span style=\"color: #00d7ff; text-decoration-color: #00d7ff\">None</span>, <span style=\"color: #00af00; text-decoration-color: #00af00\">11</span>)                  │             <span style=\"color: #00af00; text-decoration-color: #00af00\">132</span> │\n",
       "├──────────────────────────────────────┼─────────────────────────────┼─────────────────┤\n",
       "│ dense_14 (<span style=\"color: #0087ff; text-decoration-color: #0087ff\">Dense</span>)                     │ (<span style=\"color: #00d7ff; text-decoration-color: #00d7ff\">None</span>, <span style=\"color: #00af00; text-decoration-color: #00af00\">11</span>)                  │             <span style=\"color: #00af00; text-decoration-color: #00af00\">132</span> │\n",
       "├──────────────────────────────────────┼─────────────────────────────┼─────────────────┤\n",
       "│ dense_15 (<span style=\"color: #0087ff; text-decoration-color: #0087ff\">Dense</span>)                     │ (<span style=\"color: #00d7ff; text-decoration-color: #00d7ff\">None</span>, <span style=\"color: #00af00; text-decoration-color: #00af00\">1</span>)                   │              <span style=\"color: #00af00; text-decoration-color: #00af00\">12</span> │\n",
       "└──────────────────────────────────────┴─────────────────────────────┴─────────────────┘\n",
       "</pre>\n"
      ],
      "text/plain": [
       "┏━━━━━━━━━━━━━━━━━━━━━━━━━━━━━━━━━━━━━━┳━━━━━━━━━━━━━━━━━━━━━━━━━━━━━┳━━━━━━━━━━━━━━━━━┓\n",
       "┃\u001b[1m \u001b[0m\u001b[1mLayer (type)                        \u001b[0m\u001b[1m \u001b[0m┃\u001b[1m \u001b[0m\u001b[1mOutput Shape               \u001b[0m\u001b[1m \u001b[0m┃\u001b[1m \u001b[0m\u001b[1m        Param #\u001b[0m\u001b[1m \u001b[0m┃\n",
       "┡━━━━━━━━━━━━━━━━━━━━━━━━━━━━━━━━━━━━━━╇━━━━━━━━━━━━━━━━━━━━━━━━━━━━━╇━━━━━━━━━━━━━━━━━┩\n",
       "│ dense_13 (\u001b[38;5;33mDense\u001b[0m)                     │ (\u001b[38;5;45mNone\u001b[0m, \u001b[38;5;34m11\u001b[0m)                  │             \u001b[38;5;34m132\u001b[0m │\n",
       "├──────────────────────────────────────┼─────────────────────────────┼─────────────────┤\n",
       "│ dense_14 (\u001b[38;5;33mDense\u001b[0m)                     │ (\u001b[38;5;45mNone\u001b[0m, \u001b[38;5;34m11\u001b[0m)                  │             \u001b[38;5;34m132\u001b[0m │\n",
       "├──────────────────────────────────────┼─────────────────────────────┼─────────────────┤\n",
       "│ dense_15 (\u001b[38;5;33mDense\u001b[0m)                     │ (\u001b[38;5;45mNone\u001b[0m, \u001b[38;5;34m1\u001b[0m)                   │              \u001b[38;5;34m12\u001b[0m │\n",
       "└──────────────────────────────────────┴─────────────────────────────┴─────────────────┘\n"
      ]
     },
     "metadata": {},
     "output_type": "display_data"
    },
    {
     "data": {
      "text/html": [
       "<pre style=\"white-space:pre;overflow-x:auto;line-height:normal;font-family:Menlo,'DejaVu Sans Mono',consolas,'Courier New',monospace\"><span style=\"font-weight: bold\"> Total params: </span><span style=\"color: #00af00; text-decoration-color: #00af00\">276</span> (1.08 KB)\n",
       "</pre>\n"
      ],
      "text/plain": [
       "\u001b[1m Total params: \u001b[0m\u001b[38;5;34m276\u001b[0m (1.08 KB)\n"
      ]
     },
     "metadata": {},
     "output_type": "display_data"
    },
    {
     "data": {
      "text/html": [
       "<pre style=\"white-space:pre;overflow-x:auto;line-height:normal;font-family:Menlo,'DejaVu Sans Mono',consolas,'Courier New',monospace\"><span style=\"font-weight: bold\"> Trainable params: </span><span style=\"color: #00af00; text-decoration-color: #00af00\">276</span> (1.08 KB)\n",
       "</pre>\n"
      ],
      "text/plain": [
       "\u001b[1m Trainable params: \u001b[0m\u001b[38;5;34m276\u001b[0m (1.08 KB)\n"
      ]
     },
     "metadata": {},
     "output_type": "display_data"
    },
    {
     "data": {
      "text/html": [
       "<pre style=\"white-space:pre;overflow-x:auto;line-height:normal;font-family:Menlo,'DejaVu Sans Mono',consolas,'Courier New',monospace\"><span style=\"font-weight: bold\"> Non-trainable params: </span><span style=\"color: #00af00; text-decoration-color: #00af00\">0</span> (0.00 B)\n",
       "</pre>\n"
      ],
      "text/plain": [
       "\u001b[1m Non-trainable params: \u001b[0m\u001b[38;5;34m0\u001b[0m (0.00 B)\n"
      ]
     },
     "metadata": {},
     "output_type": "display_data"
    }
   ],
   "source": [
    "model.summary()"
   ]
  },
  {
   "cell_type": "code",
   "execution_count": 203,
   "id": "249c2539-347f-4ef8-8d9b-f074b3e62b55",
   "metadata": {},
   "outputs": [],
   "source": [
    "#model compilation scale"
   ]
  },
  {
   "cell_type": "code",
   "execution_count": 204,
   "id": "07e567c0-60dd-4dd3-a5bf-72f64e0feefe",
   "metadata": {},
   "outputs": [],
   "source": [
    "model.compile(loss='binary_crossentropy' , optimizer='Adam', metrics=['accuracy'])"
   ]
  },
  {
   "cell_type": "code",
   "execution_count": 205,
   "id": "ee1eeb89-5906-40c4-82e9-49648f9f25bd",
   "metadata": {},
   "outputs": [
    {
     "name": "stdout",
     "output_type": "stream",
     "text": [
      "Epoch 1/50\n",
      "\u001b[1m200/200\u001b[0m \u001b[32m━━━━━━━━━━━━━━━━━━━━\u001b[0m\u001b[37m\u001b[0m \u001b[1m1s\u001b[0m 3ms/step - accuracy: 0.6909 - loss: 0.5938 - val_accuracy: 0.7975 - val_loss: 0.4725\n",
      "Epoch 2/50\n",
      "\u001b[1m200/200\u001b[0m \u001b[32m━━━━━━━━━━━━━━━━━━━━\u001b[0m\u001b[37m\u001b[0m \u001b[1m0s\u001b[0m 2ms/step - accuracy: 0.7986 - loss: 0.4552 - val_accuracy: 0.8037 - val_loss: 0.4453\n",
      "Epoch 3/50\n",
      "\u001b[1m200/200\u001b[0m \u001b[32m━━━━━━━━━━━━━━━━━━━━\u001b[0m\u001b[37m\u001b[0m \u001b[1m0s\u001b[0m 2ms/step - accuracy: 0.8111 - loss: 0.4273 - val_accuracy: 0.8131 - val_loss: 0.4263\n",
      "Epoch 4/50\n",
      "\u001b[1m200/200\u001b[0m \u001b[32m━━━━━━━━━━━━━━━━━━━━\u001b[0m\u001b[37m\u001b[0m \u001b[1m0s\u001b[0m 2ms/step - accuracy: 0.8167 - loss: 0.4203 - val_accuracy: 0.8206 - val_loss: 0.4087\n",
      "Epoch 5/50\n",
      "\u001b[1m200/200\u001b[0m \u001b[32m━━━━━━━━━━━━━━━━━━━━\u001b[0m\u001b[37m\u001b[0m \u001b[1m0s\u001b[0m 2ms/step - accuracy: 0.8381 - loss: 0.4018 - val_accuracy: 0.8294 - val_loss: 0.3885\n",
      "Epoch 6/50\n",
      "\u001b[1m200/200\u001b[0m \u001b[32m━━━━━━━━━━━━━━━━━━━━\u001b[0m\u001b[37m\u001b[0m \u001b[1m0s\u001b[0m 2ms/step - accuracy: 0.8440 - loss: 0.3824 - val_accuracy: 0.8400 - val_loss: 0.3743\n",
      "Epoch 7/50\n",
      "\u001b[1m200/200\u001b[0m \u001b[32m━━━━━━━━━━━━━━━━━━━━\u001b[0m\u001b[37m\u001b[0m \u001b[1m0s\u001b[0m 2ms/step - accuracy: 0.8492 - loss: 0.3822 - val_accuracy: 0.8500 - val_loss: 0.3638\n",
      "Epoch 8/50\n",
      "\u001b[1m200/200\u001b[0m \u001b[32m━━━━━━━━━━━━━━━━━━━━\u001b[0m\u001b[37m\u001b[0m \u001b[1m0s\u001b[0m 2ms/step - accuracy: 0.8579 - loss: 0.3545 - val_accuracy: 0.8525 - val_loss: 0.3573\n",
      "Epoch 9/50\n",
      "\u001b[1m200/200\u001b[0m \u001b[32m━━━━━━━━━━━━━━━━━━━━\u001b[0m\u001b[37m\u001b[0m \u001b[1m0s\u001b[0m 2ms/step - accuracy: 0.8615 - loss: 0.3497 - val_accuracy: 0.8525 - val_loss: 0.3536\n",
      "Epoch 10/50\n",
      "\u001b[1m200/200\u001b[0m \u001b[32m━━━━━━━━━━━━━━━━━━━━\u001b[0m\u001b[37m\u001b[0m \u001b[1m1s\u001b[0m 3ms/step - accuracy: 0.8567 - loss: 0.3461 - val_accuracy: 0.8531 - val_loss: 0.3519\n",
      "Epoch 11/50\n",
      "\u001b[1m200/200\u001b[0m \u001b[32m━━━━━━━━━━━━━━━━━━━━\u001b[0m\u001b[37m\u001b[0m \u001b[1m1s\u001b[0m 2ms/step - accuracy: 0.8563 - loss: 0.3557 - val_accuracy: 0.8519 - val_loss: 0.3506\n",
      "Epoch 12/50\n",
      "\u001b[1m200/200\u001b[0m \u001b[32m━━━━━━━━━━━━━━━━━━━━\u001b[0m\u001b[37m\u001b[0m \u001b[1m0s\u001b[0m 2ms/step - accuracy: 0.8716 - loss: 0.3283 - val_accuracy: 0.8544 - val_loss: 0.3499\n",
      "Epoch 13/50\n",
      "\u001b[1m200/200\u001b[0m \u001b[32m━━━━━━━━━━━━━━━━━━━━\u001b[0m\u001b[37m\u001b[0m \u001b[1m0s\u001b[0m 2ms/step - accuracy: 0.8595 - loss: 0.3412 - val_accuracy: 0.8544 - val_loss: 0.3503\n",
      "Epoch 14/50\n",
      "\u001b[1m200/200\u001b[0m \u001b[32m━━━━━━━━━━━━━━━━━━━━\u001b[0m\u001b[37m\u001b[0m \u001b[1m0s\u001b[0m 2ms/step - accuracy: 0.8682 - loss: 0.3329 - val_accuracy: 0.8569 - val_loss: 0.3488\n",
      "Epoch 15/50\n",
      "\u001b[1m200/200\u001b[0m \u001b[32m━━━━━━━━━━━━━━━━━━━━\u001b[0m\u001b[37m\u001b[0m \u001b[1m1s\u001b[0m 2ms/step - accuracy: 0.8541 - loss: 0.3482 - val_accuracy: 0.8550 - val_loss: 0.3485\n",
      "Epoch 16/50\n",
      "\u001b[1m200/200\u001b[0m \u001b[32m━━━━━━━━━━━━━━━━━━━━\u001b[0m\u001b[37m\u001b[0m \u001b[1m0s\u001b[0m 2ms/step - accuracy: 0.8665 - loss: 0.3345 - val_accuracy: 0.8550 - val_loss: 0.3493\n",
      "Epoch 17/50\n",
      "\u001b[1m200/200\u001b[0m \u001b[32m━━━━━━━━━━━━━━━━━━━━\u001b[0m\u001b[37m\u001b[0m \u001b[1m0s\u001b[0m 2ms/step - accuracy: 0.8561 - loss: 0.3521 - val_accuracy: 0.8550 - val_loss: 0.3480\n",
      "Epoch 18/50\n",
      "\u001b[1m200/200\u001b[0m \u001b[32m━━━━━━━━━━━━━━━━━━━━\u001b[0m\u001b[37m\u001b[0m \u001b[1m0s\u001b[0m 2ms/step - accuracy: 0.8643 - loss: 0.3332 - val_accuracy: 0.8575 - val_loss: 0.3491\n",
      "Epoch 19/50\n",
      "\u001b[1m200/200\u001b[0m \u001b[32m━━━━━━━━━━━━━━━━━━━━\u001b[0m\u001b[37m\u001b[0m \u001b[1m0s\u001b[0m 2ms/step - accuracy: 0.8614 - loss: 0.3333 - val_accuracy: 0.8544 - val_loss: 0.3489\n",
      "Epoch 20/50\n",
      "\u001b[1m200/200\u001b[0m \u001b[32m━━━━━━━━━━━━━━━━━━━━\u001b[0m\u001b[37m\u001b[0m \u001b[1m0s\u001b[0m 2ms/step - accuracy: 0.8572 - loss: 0.3498 - val_accuracy: 0.8569 - val_loss: 0.3498\n",
      "Epoch 21/50\n",
      "\u001b[1m200/200\u001b[0m \u001b[32m━━━━━━━━━━━━━━━━━━━━\u001b[0m\u001b[37m\u001b[0m \u001b[1m0s\u001b[0m 2ms/step - accuracy: 0.8621 - loss: 0.3378 - val_accuracy: 0.8525 - val_loss: 0.3488\n",
      "Epoch 22/50\n",
      "\u001b[1m200/200\u001b[0m \u001b[32m━━━━━━━━━━━━━━━━━━━━\u001b[0m\u001b[37m\u001b[0m \u001b[1m0s\u001b[0m 2ms/step - accuracy: 0.8689 - loss: 0.3277 - val_accuracy: 0.8512 - val_loss: 0.3484\n",
      "Epoch 23/50\n",
      "\u001b[1m200/200\u001b[0m \u001b[32m━━━━━━━━━━━━━━━━━━━━\u001b[0m\u001b[37m\u001b[0m \u001b[1m0s\u001b[0m 2ms/step - accuracy: 0.8604 - loss: 0.3340 - val_accuracy: 0.8544 - val_loss: 0.3502\n",
      "Epoch 24/50\n",
      "\u001b[1m200/200\u001b[0m \u001b[32m━━━━━━━━━━━━━━━━━━━━\u001b[0m\u001b[37m\u001b[0m \u001b[1m0s\u001b[0m 2ms/step - accuracy: 0.8713 - loss: 0.3208 - val_accuracy: 0.8525 - val_loss: 0.3492\n",
      "Epoch 25/50\n",
      "\u001b[1m200/200\u001b[0m \u001b[32m━━━━━━━━━━━━━━━━━━━━\u001b[0m\u001b[37m\u001b[0m \u001b[1m0s\u001b[0m 2ms/step - accuracy: 0.8608 - loss: 0.3309 - val_accuracy: 0.8519 - val_loss: 0.3486\n",
      "Epoch 26/50\n",
      "\u001b[1m200/200\u001b[0m \u001b[32m━━━━━━━━━━━━━━━━━━━━\u001b[0m\u001b[37m\u001b[0m \u001b[1m0s\u001b[0m 2ms/step - accuracy: 0.8613 - loss: 0.3390 - val_accuracy: 0.8512 - val_loss: 0.3495\n",
      "Epoch 27/50\n",
      "\u001b[1m200/200\u001b[0m \u001b[32m━━━━━━━━━━━━━━━━━━━━\u001b[0m\u001b[37m\u001b[0m \u001b[1m0s\u001b[0m 2ms/step - accuracy: 0.8572 - loss: 0.3465 - val_accuracy: 0.8512 - val_loss: 0.3484\n",
      "Epoch 28/50\n",
      "\u001b[1m200/200\u001b[0m \u001b[32m━━━━━━━━━━━━━━━━━━━━\u001b[0m\u001b[37m\u001b[0m \u001b[1m0s\u001b[0m 2ms/step - accuracy: 0.8548 - loss: 0.3440 - val_accuracy: 0.8525 - val_loss: 0.3494\n",
      "Epoch 29/50\n",
      "\u001b[1m200/200\u001b[0m \u001b[32m━━━━━━━━━━━━━━━━━━━━\u001b[0m\u001b[37m\u001b[0m \u001b[1m0s\u001b[0m 2ms/step - accuracy: 0.8691 - loss: 0.3241 - val_accuracy: 0.8481 - val_loss: 0.3494\n",
      "Epoch 30/50\n",
      "\u001b[1m200/200\u001b[0m \u001b[32m━━━━━━━━━━━━━━━━━━━━\u001b[0m\u001b[37m\u001b[0m \u001b[1m0s\u001b[0m 2ms/step - accuracy: 0.8606 - loss: 0.3379 - val_accuracy: 0.8519 - val_loss: 0.3499\n",
      "Epoch 31/50\n",
      "\u001b[1m200/200\u001b[0m \u001b[32m━━━━━━━━━━━━━━━━━━━━\u001b[0m\u001b[37m\u001b[0m \u001b[1m0s\u001b[0m 2ms/step - accuracy: 0.8577 - loss: 0.3434 - val_accuracy: 0.8506 - val_loss: 0.3510\n",
      "Epoch 32/50\n",
      "\u001b[1m200/200\u001b[0m \u001b[32m━━━━━━━━━━━━━━━━━━━━\u001b[0m\u001b[37m\u001b[0m \u001b[1m0s\u001b[0m 2ms/step - accuracy: 0.8595 - loss: 0.3329 - val_accuracy: 0.8494 - val_loss: 0.3493\n",
      "Epoch 33/50\n",
      "\u001b[1m200/200\u001b[0m \u001b[32m━━━━━━━━━━━━━━━━━━━━\u001b[0m\u001b[37m\u001b[0m \u001b[1m0s\u001b[0m 2ms/step - accuracy: 0.8640 - loss: 0.3281 - val_accuracy: 0.8506 - val_loss: 0.3500\n",
      "Epoch 34/50\n",
      "\u001b[1m200/200\u001b[0m \u001b[32m━━━━━━━━━━━━━━━━━━━━\u001b[0m\u001b[37m\u001b[0m \u001b[1m0s\u001b[0m 2ms/step - accuracy: 0.8686 - loss: 0.3245 - val_accuracy: 0.8500 - val_loss: 0.3497\n",
      "Epoch 35/50\n",
      "\u001b[1m200/200\u001b[0m \u001b[32m━━━━━━━━━━━━━━━━━━━━\u001b[0m\u001b[37m\u001b[0m \u001b[1m0s\u001b[0m 2ms/step - accuracy: 0.8700 - loss: 0.3221 - val_accuracy: 0.8481 - val_loss: 0.3503\n",
      "Epoch 36/50\n",
      "\u001b[1m200/200\u001b[0m \u001b[32m━━━━━━━━━━━━━━━━━━━━\u001b[0m\u001b[37m\u001b[0m \u001b[1m0s\u001b[0m 2ms/step - accuracy: 0.8673 - loss: 0.3262 - val_accuracy: 0.8519 - val_loss: 0.3503\n",
      "Epoch 37/50\n",
      "\u001b[1m200/200\u001b[0m \u001b[32m━━━━━━━━━━━━━━━━━━━━\u001b[0m\u001b[37m\u001b[0m \u001b[1m0s\u001b[0m 2ms/step - accuracy: 0.8676 - loss: 0.3289 - val_accuracy: 0.8512 - val_loss: 0.3499\n",
      "Epoch 38/50\n",
      "\u001b[1m200/200\u001b[0m \u001b[32m━━━━━━━━━━━━━━━━━━━━\u001b[0m\u001b[37m\u001b[0m \u001b[1m0s\u001b[0m 2ms/step - accuracy: 0.8626 - loss: 0.3302 - val_accuracy: 0.8494 - val_loss: 0.3506\n",
      "Epoch 39/50\n",
      "\u001b[1m200/200\u001b[0m \u001b[32m━━━━━━━━━━━━━━━━━━━━\u001b[0m\u001b[37m\u001b[0m \u001b[1m0s\u001b[0m 2ms/step - accuracy: 0.8555 - loss: 0.3444 - val_accuracy: 0.8487 - val_loss: 0.3509\n",
      "Epoch 40/50\n",
      "\u001b[1m200/200\u001b[0m \u001b[32m━━━━━━━━━━━━━━━━━━━━\u001b[0m\u001b[37m\u001b[0m \u001b[1m0s\u001b[0m 2ms/step - accuracy: 0.8718 - loss: 0.3232 - val_accuracy: 0.8525 - val_loss: 0.3501\n",
      "Epoch 41/50\n",
      "\u001b[1m200/200\u001b[0m \u001b[32m━━━━━━━━━━━━━━━━━━━━\u001b[0m\u001b[37m\u001b[0m \u001b[1m0s\u001b[0m 2ms/step - accuracy: 0.8666 - loss: 0.3281 - val_accuracy: 0.8519 - val_loss: 0.3509\n",
      "Epoch 42/50\n",
      "\u001b[1m200/200\u001b[0m \u001b[32m━━━━━━━━━━━━━━━━━━━━\u001b[0m\u001b[37m\u001b[0m \u001b[1m0s\u001b[0m 2ms/step - accuracy: 0.8598 - loss: 0.3389 - val_accuracy: 0.8531 - val_loss: 0.3509\n",
      "Epoch 43/50\n",
      "\u001b[1m200/200\u001b[0m \u001b[32m━━━━━━━━━━━━━━━━━━━━\u001b[0m\u001b[37m\u001b[0m \u001b[1m0s\u001b[0m 2ms/step - accuracy: 0.8585 - loss: 0.3359 - val_accuracy: 0.8487 - val_loss: 0.3516\n",
      "Epoch 44/50\n",
      "\u001b[1m200/200\u001b[0m \u001b[32m━━━━━━━━━━━━━━━━━━━━\u001b[0m\u001b[37m\u001b[0m \u001b[1m0s\u001b[0m 2ms/step - accuracy: 0.8696 - loss: 0.3325 - val_accuracy: 0.8494 - val_loss: 0.3514\n",
      "Epoch 45/50\n",
      "\u001b[1m200/200\u001b[0m \u001b[32m━━━━━━━━━━━━━━━━━━━━\u001b[0m\u001b[37m\u001b[0m \u001b[1m0s\u001b[0m 2ms/step - accuracy: 0.8648 - loss: 0.3338 - val_accuracy: 0.8519 - val_loss: 0.3512\n",
      "Epoch 46/50\n",
      "\u001b[1m200/200\u001b[0m \u001b[32m━━━━━━━━━━━━━━━━━━━━\u001b[0m\u001b[37m\u001b[0m \u001b[1m0s\u001b[0m 2ms/step - accuracy: 0.8673 - loss: 0.3200 - val_accuracy: 0.8500 - val_loss: 0.3509\n",
      "Epoch 47/50\n",
      "\u001b[1m200/200\u001b[0m \u001b[32m━━━━━━━━━━━━━━━━━━━━\u001b[0m\u001b[37m\u001b[0m \u001b[1m0s\u001b[0m 2ms/step - accuracy: 0.8680 - loss: 0.3231 - val_accuracy: 0.8519 - val_loss: 0.3513\n",
      "Epoch 48/50\n",
      "\u001b[1m200/200\u001b[0m \u001b[32m━━━━━━━━━━━━━━━━━━━━\u001b[0m\u001b[37m\u001b[0m \u001b[1m0s\u001b[0m 2ms/step - accuracy: 0.8670 - loss: 0.3296 - val_accuracy: 0.8506 - val_loss: 0.3522\n",
      "Epoch 49/50\n",
      "\u001b[1m200/200\u001b[0m \u001b[32m━━━━━━━━━━━━━━━━━━━━\u001b[0m\u001b[37m\u001b[0m \u001b[1m0s\u001b[0m 2ms/step - accuracy: 0.8695 - loss: 0.3156 - val_accuracy: 0.8475 - val_loss: 0.3529\n",
      "Epoch 50/50\n",
      "\u001b[1m200/200\u001b[0m \u001b[32m━━━━━━━━━━━━━━━━━━━━\u001b[0m\u001b[37m\u001b[0m \u001b[1m1s\u001b[0m 3ms/step - accuracy: 0.8589 - loss: 0.3308 - val_accuracy: 0.8500 - val_loss: 0.3532\n"
     ]
    }
   ],
   "source": [
    "history = model.fit(X_train , y_train , epochs=50 , validation_split=0.2)"
   ]
  },
  {
   "cell_type": "code",
   "execution_count": 206,
   "id": "62fdcc62-42f9-4652-9b11-0b702f5989d9",
   "metadata": {},
   "outputs": [
    {
     "data": {
      "text/plain": [
       "[array([[ 0.01089738, -0.03252509, -0.00363042,  0.08147869, -0.09532242,\n",
       "         -0.12505136, -0.04129659,  0.03459677, -0.09063365,  0.5938439 ,\n",
       "          0.67830473],\n",
       "        [-0.11176431,  0.9441483 , -0.6062732 , -0.3766662 , -0.09920815,\n",
       "          0.12321773,  1.2359496 ,  0.16081266,  0.7091428 , -0.04870052,\n",
       "         -0.14663833],\n",
       "        [ 0.1280731 ,  0.3142944 , -0.4146244 , -0.01345921,  0.13685133,\n",
       "         -0.01323259,  0.01496989,  0.02562291,  0.12518653, -0.03911748,\n",
       "         -0.52969474],\n",
       "        [ 0.09775253,  0.04458909, -0.07460153, -0.06695286,  0.17087674,\n",
       "         -0.11177469, -0.30481339,  0.42041573, -0.08167882,  0.23552892,\n",
       "          0.13779517],\n",
       "        [ 0.21603797,  0.00866047,  0.16211662,  0.32629442,  0.46789512,\n",
       "         -0.8797343 , -0.434453  ,  0.9475338 ,  1.2096072 , -0.34820372,\n",
       "          0.15215065],\n",
       "        [ 0.38782737, -0.20714334, -0.14345777, -0.15761715, -0.3046633 ,\n",
       "         -0.48592058, -0.09307045, -0.07392374,  0.16034846, -0.2941    ,\n",
       "         -0.28438714],\n",
       "        [ 0.29597086,  1.0381852 , -0.23453498, -0.37170476,  0.37762308,\n",
       "         -0.7090347 ,  0.17268284,  0.0532786 , -0.11113376, -0.89382714,\n",
       "          0.25417027],\n",
       "        [ 0.02499145, -0.16744101,  0.31703007, -0.4018395 , -0.16526456,\n",
       "         -0.04457352, -0.06837143, -0.16138588,  0.0516937 , -0.2544413 ,\n",
       "          0.07712507],\n",
       "        [-0.4744515 , -0.349374  , -0.00452704, -0.6172795 , -0.14298695,\n",
       "          0.01739011,  0.20349292, -0.47088104,  0.18094787, -0.06525649,\n",
       "          0.16623616],\n",
       "        [-0.1290775 ,  0.5263501 , -0.28963032,  0.28465143, -0.58774203,\n",
       "          0.24487607,  0.11630057,  0.07016183,  0.17580257, -0.12764482,\n",
       "         -0.00173618],\n",
       "        [ 0.29417706,  0.03157937, -0.49984902,  0.2491437 ,  0.21727553,\n",
       "         -0.12243766,  0.07371917,  0.00398672, -0.01330691, -0.22654912,\n",
       "          0.2189539 ]], dtype=float32),\n",
       " array([ 0.427649  , -0.30520993,  0.17070253,  0.5682892 ,  0.42558435,\n",
       "         0.5465284 , -0.0590917 , -0.43923053,  0.11057254,  0.08920221,\n",
       "        -0.35120437], dtype=float32)]"
      ]
     },
     "execution_count": 206,
     "metadata": {},
     "output_type": "execute_result"
    }
   ],
   "source": [
    "model.layers[0].get_weights()"
   ]
  },
  {
   "cell_type": "code",
   "execution_count": 207,
   "id": "6837cecd-c77a-4a30-ae6f-f7db61d0aec3",
   "metadata": {},
   "outputs": [
    {
     "data": {
      "text/plain": [
       "[array([[-0.33552963,  0.6780203 , -0.22983252,  0.50825423,  0.4192703 ,\n",
       "          0.2745113 , -0.5426796 ,  0.4780167 ,  0.0277303 ,  0.21206555,\n",
       "         -0.05198386],\n",
       "        [-0.2541158 ,  0.63949025, -0.42889223, -0.41537893, -0.25146598,\n",
       "          0.13773276, -0.04225814, -0.2794485 , -0.5264511 ,  0.31568715,\n",
       "         -0.48682195],\n",
       "        [-0.18279389,  0.47729102, -0.06021729, -0.07227904,  0.34389877,\n",
       "          0.37682164, -0.13714996,  0.30786008, -0.19685128, -0.02550768,\n",
       "          0.27775863],\n",
       "        [-0.49636075,  0.17242467, -0.38540766,  0.38958523,  0.58843416,\n",
       "          0.5620219 , -0.33115232,  0.24833752, -0.32700258, -0.18251061,\n",
       "          0.44685867],\n",
       "        [-0.46710387, -0.48519433,  0.4679023 ,  0.26713377, -0.12127827,\n",
       "         -0.07026841,  0.05519391, -0.07345327, -0.32663813,  0.42963126,\n",
       "          0.23816901],\n",
       "        [ 0.31007102, -0.3866299 , -0.23628953,  0.3249287 ,  0.05877173,\n",
       "          0.22779422, -0.01151099,  0.5873637 , -0.1734424 ,  0.05951219,\n",
       "          0.23752426],\n",
       "        [-0.49176005,  0.18266359, -0.10093552, -0.65623444, -0.04002656,\n",
       "         -0.5648283 , -0.44044784,  0.48598057, -0.14856441, -0.13037401,\n",
       "         -0.5811479 ],\n",
       "        [ 0.11255929, -0.23309411,  0.04958425, -0.5887985 , -0.48132977,\n",
       "         -0.32713357,  0.87781096,  0.14577875,  0.87178695, -0.7708004 ,\n",
       "         -0.23864603],\n",
       "        [ 0.1934982 ,  0.34923488, -0.05326108,  0.1644476 ,  0.09189995,\n",
       "          0.00822939,  0.78533053, -0.3094506 ,  0.7738171 ,  0.33987078,\n",
       "          0.1318689 ],\n",
       "        [-0.3756214 , -0.13192526, -0.7867052 ,  0.23313573, -0.34823915,\n",
       "          0.25247252, -0.09466505,  0.46503377, -0.4776187 , -0.09429742,\n",
       "          0.21649557],\n",
       "        [ 0.08284808,  0.07121339, -0.74780893,  0.40268177, -0.21305452,\n",
       "         -0.24624664,  0.05946749, -0.19589804,  0.43837982,  0.22266938,\n",
       "         -0.08876007]], dtype=float32),\n",
       " array([ 0.03315148,  0.14235945,  0.3992821 ,  0.32911643,  0.17506878,\n",
       "         0.26152983, -0.24447937,  0.09869575, -0.21405987,  0.19920002,\n",
       "         0.4154372 ], dtype=float32)]"
      ]
     },
     "execution_count": 207,
     "metadata": {},
     "output_type": "execute_result"
    }
   ],
   "source": [
    "model.layers[1].get_weights()"
   ]
  },
  {
   "cell_type": "code",
   "execution_count": 208,
   "id": "0c0190ed-614a-4be9-b3ac-7aafeb72c251",
   "metadata": {},
   "outputs": [
    {
     "data": {
      "text/plain": [
       "[array([[-0.5222022 ],\n",
       "        [-0.73433775],\n",
       "        [-1.4561886 ],\n",
       "        [-1.0073718 ],\n",
       "        [-0.13341668],\n",
       "        [-0.41620186],\n",
       "        [ 0.8609157 ],\n",
       "        [ 0.9203661 ],\n",
       "        [ 1.144923  ],\n",
       "        [-0.917288  ],\n",
       "        [-0.5253256 ]], dtype=float32),\n",
       " array([0.0567475], dtype=float32)]"
      ]
     },
     "execution_count": 208,
     "metadata": {},
     "output_type": "execute_result"
    }
   ],
   "source": [
    "model.layers[2].get_weights()"
   ]
  },
  {
   "cell_type": "code",
   "execution_count": 209,
   "id": "ea4d5cee-ef90-48d8-99d9-0b2c15fbd1f5",
   "metadata": {},
   "outputs": [
    {
     "name": "stdout",
     "output_type": "stream",
     "text": [
      "\u001b[1m63/63\u001b[0m \u001b[32m━━━━━━━━━━━━━━━━━━━━\u001b[0m\u001b[37m\u001b[0m \u001b[1m0s\u001b[0m 2ms/step \n"
     ]
    }
   ],
   "source": [
    "y_log = model.predict(X_test)"
   ]
  },
  {
   "cell_type": "code",
   "execution_count": 210,
   "id": "383a8f4c-67d7-4f92-ac56-3be8da267930",
   "metadata": {},
   "outputs": [],
   "source": [
    "y_pred = np.where(y_log>0.5 ,1,0)"
   ]
  },
  {
   "cell_type": "code",
   "execution_count": 211,
   "id": "d651ce2f-4e73-432f-b23a-d4106a59f557",
   "metadata": {},
   "outputs": [],
   "source": [
    "from sklearn.metrics import accuracy_score"
   ]
  },
  {
   "cell_type": "code",
   "execution_count": 212,
   "id": "2f68ed1f-3010-4d42-9949-8f9d6dd9dc56",
   "metadata": {},
   "outputs": [
    {
     "data": {
      "text/plain": [
       "0.8615"
      ]
     },
     "execution_count": 212,
     "metadata": {},
     "output_type": "execute_result"
    }
   ],
   "source": [
    "accuracy_score(y_test ,y_pred)"
   ]
  },
  {
   "cell_type": "code",
   "execution_count": 213,
   "id": "c484f933-03d4-4940-8d5b-a72ed29c96d0",
   "metadata": {},
   "outputs": [],
   "source": [
    "import matplotlib.pyplot as plt"
   ]
  },
  {
   "cell_type": "code",
   "execution_count": 214,
   "id": "32a3417b-238a-4616-b2f6-76e18d922404",
   "metadata": {},
   "outputs": [
    {
     "data": {
      "text/plain": [
       "{'accuracy': [0.7632812261581421,\n",
       "  0.8012499809265137,\n",
       "  0.8123437762260437,\n",
       "  0.8245312571525574,\n",
       "  0.8365625143051147,\n",
       "  0.848437488079071,\n",
       "  0.8526562452316284,\n",
       "  0.8581249713897705,\n",
       "  0.8578125238418579,\n",
       "  0.8595312237739563,\n",
       "  0.8596875071525574,\n",
       "  0.8604687452316284,\n",
       "  0.859375,\n",
       "  0.8603125214576721,\n",
       "  0.860156238079071,\n",
       "  0.8607812523841858,\n",
       "  0.8610937595367432,\n",
       "  0.8621875047683716,\n",
       "  0.8603125214576721,\n",
       "  0.86328125,\n",
       "  0.862500011920929,\n",
       "  0.8631250262260437,\n",
       "  0.8629687428474426,\n",
       "  0.8637499809265137,\n",
       "  0.8618749976158142,\n",
       "  0.8635937571525574,\n",
       "  0.8637499809265137,\n",
       "  0.8643749952316284,\n",
       "  0.8639062643051147,\n",
       "  0.8635937571525574,\n",
       "  0.86328125,\n",
       "  0.8637499809265137,\n",
       "  0.8628125190734863,\n",
       "  0.8646875023841858,\n",
       "  0.8628125190734863,\n",
       "  0.8650000095367432,\n",
       "  0.8659374713897705,\n",
       "  0.8642187714576721,\n",
       "  0.8657812476158142,\n",
       "  0.8671875,\n",
       "  0.8634374737739563,\n",
       "  0.8650000095367432,\n",
       "  0.8656250238418579,\n",
       "  0.8660937547683716,\n",
       "  0.864062488079071,\n",
       "  0.8637499809265137,\n",
       "  0.8654687404632568,\n",
       "  0.8653125166893005,\n",
       "  0.864062488079071,\n",
       "  0.8651562333106995],\n",
       " 'loss': [0.5301608443260193,\n",
       "  0.4491150975227356,\n",
       "  0.4283817410469055,\n",
       "  0.41221314668655396,\n",
       "  0.3949732184410095,\n",
       "  0.37838876247406006,\n",
       "  0.3661143183708191,\n",
       "  0.357676237821579,\n",
       "  0.3524981439113617,\n",
       "  0.3484422266483307,\n",
       "  0.34636619687080383,\n",
       "  0.34452709555625916,\n",
       "  0.34296661615371704,\n",
       "  0.34169629216194153,\n",
       "  0.3401851952075958,\n",
       "  0.33933016657829285,\n",
       "  0.33887922763824463,\n",
       "  0.33823123574256897,\n",
       "  0.337097704410553,\n",
       "  0.3360476791858673,\n",
       "  0.33553093671798706,\n",
       "  0.33528760075569153,\n",
       "  0.33455535769462585,\n",
       "  0.33413445949554443,\n",
       "  0.3334634304046631,\n",
       "  0.3332737684249878,\n",
       "  0.332733690738678,\n",
       "  0.33234816789627075,\n",
       "  0.33181872963905334,\n",
       "  0.3315320611000061,\n",
       "  0.3317852318286896,\n",
       "  0.33113372325897217,\n",
       "  0.3308165669441223,\n",
       "  0.3303758203983307,\n",
       "  0.33046141266822815,\n",
       "  0.3295690417289734,\n",
       "  0.32947298884391785,\n",
       "  0.3295100927352905,\n",
       "  0.3292248845100403,\n",
       "  0.32827088236808777,\n",
       "  0.32898035645484924,\n",
       "  0.3282717168331146,\n",
       "  0.32782232761383057,\n",
       "  0.327891081571579,\n",
       "  0.3282128572463989,\n",
       "  0.32788240909576416,\n",
       "  0.32746773958206177,\n",
       "  0.3269343674182892,\n",
       "  0.3273237943649292,\n",
       "  0.32707923650741577],\n",
       " 'val_accuracy': [0.7975000143051147,\n",
       "  0.8037499785423279,\n",
       "  0.8131250143051147,\n",
       "  0.8206250071525574,\n",
       "  0.8293750286102295,\n",
       "  0.8399999737739563,\n",
       "  0.8500000238418579,\n",
       "  0.8525000214576721,\n",
       "  0.8525000214576721,\n",
       "  0.8531249761581421,\n",
       "  0.8518750071525574,\n",
       "  0.8543750047683716,\n",
       "  0.8543750047683716,\n",
       "  0.8568750023841858,\n",
       "  0.8550000190734863,\n",
       "  0.8550000190734863,\n",
       "  0.8550000190734863,\n",
       "  0.8575000166893005,\n",
       "  0.8543750047683716,\n",
       "  0.8568750023841858,\n",
       "  0.8525000214576721,\n",
       "  0.8512499928474426,\n",
       "  0.8543750047683716,\n",
       "  0.8525000214576721,\n",
       "  0.8518750071525574,\n",
       "  0.8512499928474426,\n",
       "  0.8512499928474426,\n",
       "  0.8525000214576721,\n",
       "  0.8481249809265137,\n",
       "  0.8518750071525574,\n",
       "  0.8506249785423279,\n",
       "  0.8493750095367432,\n",
       "  0.8506249785423279,\n",
       "  0.8500000238418579,\n",
       "  0.8481249809265137,\n",
       "  0.8518750071525574,\n",
       "  0.8512499928474426,\n",
       "  0.8493750095367432,\n",
       "  0.8487499952316284,\n",
       "  0.8525000214576721,\n",
       "  0.8518750071525574,\n",
       "  0.8531249761581421,\n",
       "  0.8487499952316284,\n",
       "  0.8493750095367432,\n",
       "  0.8518750071525574,\n",
       "  0.8500000238418579,\n",
       "  0.8518750071525574,\n",
       "  0.8506249785423279,\n",
       "  0.8475000262260437,\n",
       "  0.8500000238418579],\n",
       " 'val_loss': [0.4725036323070526,\n",
       "  0.4453365206718445,\n",
       "  0.42628124356269836,\n",
       "  0.4086751639842987,\n",
       "  0.3884608745574951,\n",
       "  0.37433770298957825,\n",
       "  0.3637734353542328,\n",
       "  0.3572525382041931,\n",
       "  0.3535866439342499,\n",
       "  0.3519068658351898,\n",
       "  0.35063427686691284,\n",
       "  0.3498575687408447,\n",
       "  0.3503364622592926,\n",
       "  0.348811537027359,\n",
       "  0.34854456782341003,\n",
       "  0.349327951669693,\n",
       "  0.3479747474193573,\n",
       "  0.3491235375404358,\n",
       "  0.34888824820518494,\n",
       "  0.34978970885276794,\n",
       "  0.34878700971603394,\n",
       "  0.3484363853931427,\n",
       "  0.3501744866371155,\n",
       "  0.34916576743125916,\n",
       "  0.34855929017066956,\n",
       "  0.34949779510498047,\n",
       "  0.3483579158782959,\n",
       "  0.34943509101867676,\n",
       "  0.349395215511322,\n",
       "  0.3498848080635071,\n",
       "  0.35103896260261536,\n",
       "  0.3492514491081238,\n",
       "  0.34996017813682556,\n",
       "  0.3497495651245117,\n",
       "  0.3503018915653229,\n",
       "  0.3503260016441345,\n",
       "  0.3498750925064087,\n",
       "  0.3506471514701843,\n",
       "  0.350874125957489,\n",
       "  0.3500547409057617,\n",
       "  0.3509299159049988,\n",
       "  0.35086455941200256,\n",
       "  0.3515911102294922,\n",
       "  0.3513578772544861,\n",
       "  0.35124412178993225,\n",
       "  0.35085436701774597,\n",
       "  0.3512882888317108,\n",
       "  0.35221239924430847,\n",
       "  0.3529070019721985,\n",
       "  0.35321852564811707]}"
      ]
     },
     "execution_count": 214,
     "metadata": {},
     "output_type": "execute_result"
    }
   ],
   "source": [
    "history.history"
   ]
  },
  {
   "cell_type": "code",
   "execution_count": 216,
   "id": "2642f78b-9e06-4fff-a120-33ce4b59bbea",
   "metadata": {},
   "outputs": [
    {
     "data": {
      "text/plain": [
       "[<matplotlib.lines.Line2D at 0x204f7b9d1f0>]"
      ]
     },
     "execution_count": 216,
     "metadata": {},
     "output_type": "execute_result"
    },
    {
     "data": {
      "image/png": "[encoded data removed]",
      "text/plain": [
       "<Figure size 640x480 with 1 Axes>"
      ]
     },
     "metadata": {},
     "output_type": "display_data"
    }
   ],
   "source": [
    "plt.plot(history.history['loss'])\n",
    "plt.plot(history.history['val_loss'])"
   ]
  },
  {
   "cell_type": "code",
   "execution_count": 217,
   "id": "1512b726-ad78-4f20-aceb-aa1dfbfb89da",
   "metadata": {},
   "outputs": [
    {
     "data": {
      "text/plain": [
       "[<matplotlib.lines.Line2D at 0x204f7be2a20>]"
      ]
     },
     "execution_count": 217,
     "metadata": {},
     "output_type": "execute_result"
    },
    {
     "data": {
      "image/png": "[encoded data removed]",
      "text/plain": [
       "<Figure size 640x480 with 1 Axes>"
      ]
     },
     "metadata": {},
     "output_type": "display_data"
    }
   ],
   "source": [
    "plt.plot(history.history['accuracy'])\n",
    "plt.plot(history.history['val_accuracy'])"
   ]
  },
  {
   "cell_type": "code",
   "execution_count": null,
   "id": "2406edc1-45f9-4808-add4-f46233c4899d",
   "metadata": {},
   "outputs": [],
   "source": []
  }
 ],
 "metadata": {
  "kernelspec": {
   "display_name": "Python [conda env:base] *",
   "language": "python",
   "name": "conda-base-py"
  },
  "language_info": {
   "codemirror_mode": {
    "name": "ipython",
    "version": 3
   },
   "file_extension": ".py",
   "mimetype": "text/x-python",
   "name": "python",
   "nbconvert_exporter": "python",
   "pygments_lexer": "ipython3",
   "version": "3.12.7"
  }
 },
 "nbformat": 4,
 "nbformat_minor": 5
}
