{
 "cells": [
  {
   "cell_type": "code",
   "execution_count": 38,
   "id": "12e70770-b07d-47a4-aa2b-fb79a14713a9",
   "metadata": {},
   "outputs": [],
   "source": [
    "# fib\n",
    "\n",
    "import time\n",
    "\n",
    "def fib(n,d={}):\n",
    "    if n in d:\n",
    "        return d[n]\n",
    "    else:\n",
    "        d[n] = fib(n-1,d) + fib(n+2,d)\n",
    "        return d[n]"
   ]
  },
  {
   "cell_type": "markdown",
   "id": "a6bfeb0a-9b61-4860-9e15-f41e8b21211b",
   "metadata": {},
   "source": [
    "### Note - Code working alright in Google Collab"
   ]
  },
  {
   "cell_type": "code",
   "execution_count": 39,
   "id": "66cfa230-ce73-49a6-bfad-1e416a3fd413",
   "metadata": {},
   "outputs": [
    {
     "ename": "RecursionError",
     "evalue": "maximum recursion depth exceeded",
     "output_type": "error",
     "traceback": [
      "\u001b[1;31m---------------------------------------------------------------------------\u001b[0m",
      "\u001b[1;31mRecursionError\u001b[0m                            Traceback (most recent call last)",
      "Cell \u001b[1;32mIn[39], line 3\u001b[0m\n\u001b[0;32m      1\u001b[0m start \u001b[38;5;241m=\u001b[39m time\u001b[38;5;241m.\u001b[39mtime()\n\u001b[0;32m      2\u001b[0m d\u001b[38;5;241m=\u001b[39m {\u001b[38;5;241m0\u001b[39m:\u001b[38;5;241m1\u001b[39m ,\u001b[38;5;241m1\u001b[39m:\u001b[38;5;241m1\u001b[39m }\n\u001b[1;32m----> 3\u001b[0m fib(\u001b[38;5;241m38\u001b[39m,d)\n\u001b[0;32m      4\u001b[0m \u001b[38;5;28mprint\u001b[39m(time\u001b[38;5;241m.\u001b[39mtime() \u001b[38;5;241m-\u001b[39m start)\n",
      "Cell \u001b[1;32mIn[38], line 9\u001b[0m, in \u001b[0;36mfib\u001b[1;34m(n, d)\u001b[0m\n\u001b[0;32m      7\u001b[0m     \u001b[38;5;28;01mreturn\u001b[39;00m d[n]\n\u001b[0;32m      8\u001b[0m \u001b[38;5;28;01melse\u001b[39;00m:\n\u001b[1;32m----> 9\u001b[0m     d[n] \u001b[38;5;241m=\u001b[39m fib(n\u001b[38;5;241m-\u001b[39m\u001b[38;5;241m1\u001b[39m,d) \u001b[38;5;241m+\u001b[39m fib(n\u001b[38;5;241m+\u001b[39m\u001b[38;5;241m2\u001b[39m,d)\n\u001b[0;32m     10\u001b[0m     \u001b[38;5;28;01mreturn\u001b[39;00m d[n]\n",
      "Cell \u001b[1;32mIn[38], line 9\u001b[0m, in \u001b[0;36mfib\u001b[1;34m(n, d)\u001b[0m\n\u001b[0;32m      7\u001b[0m     \u001b[38;5;28;01mreturn\u001b[39;00m d[n]\n\u001b[0;32m      8\u001b[0m \u001b[38;5;28;01melse\u001b[39;00m:\n\u001b[1;32m----> 9\u001b[0m     d[n] \u001b[38;5;241m=\u001b[39m fib(n\u001b[38;5;241m-\u001b[39m\u001b[38;5;241m1\u001b[39m,d) \u001b[38;5;241m+\u001b[39m fib(n\u001b[38;5;241m+\u001b[39m\u001b[38;5;241m2\u001b[39m,d)\n\u001b[0;32m     10\u001b[0m     \u001b[38;5;28;01mreturn\u001b[39;00m d[n]\n",
      "    \u001b[1;31m[... skipping similar frames: fib at line 9 (2974 times)]\u001b[0m\n",
      "Cell \u001b[1;32mIn[38], line 9\u001b[0m, in \u001b[0;36mfib\u001b[1;34m(n, d)\u001b[0m\n\u001b[0;32m      7\u001b[0m     \u001b[38;5;28;01mreturn\u001b[39;00m d[n]\n\u001b[0;32m      8\u001b[0m \u001b[38;5;28;01melse\u001b[39;00m:\n\u001b[1;32m----> 9\u001b[0m     d[n] \u001b[38;5;241m=\u001b[39m fib(n\u001b[38;5;241m-\u001b[39m\u001b[38;5;241m1\u001b[39m,d) \u001b[38;5;241m+\u001b[39m fib(n\u001b[38;5;241m+\u001b[39m\u001b[38;5;241m2\u001b[39m,d)\n\u001b[0;32m     10\u001b[0m     \u001b[38;5;28;01mreturn\u001b[39;00m d[n]\n",
      "\u001b[1;31mRecursionError\u001b[0m: maximum recursion depth exceeded"
     ]
    }
   ],
   "source": [
    "start = time.time()\n",
    "d= {0:1 ,1:1 }\n",
    "fib(38,d)\n",
    "print(time.time() - start)"
   ]
  },
  {
   "cell_type": "code",
   "execution_count": null,
   "id": "a7b8810e-b053-4c2f-ac7c-77f3fd6f221c",
   "metadata": {},
   "outputs": [],
   "source": []
  }
 ],
 "metadata": {
  "kernelspec": {
   "display_name": "Python [conda env:base] *",
   "language": "python",
   "name": "conda-base-py"
  },
  "language_info": {
   "codemirror_mode": {
    "name": "ipython",
    "version": 3
   },
   "file_extension": ".py",
   "mimetype": "text/x-python",
   "name": "python",
   "nbconvert_exporter": "python",
   "pygments_lexer": "ipython3",
   "version": "3.12.7"
  }
 },
 "nbformat": 4,
 "nbformat_minor": 5
}
